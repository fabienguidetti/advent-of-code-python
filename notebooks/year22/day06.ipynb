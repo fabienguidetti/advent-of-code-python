{
 "cells": [
  {
   "cell_type": "code",
   "execution_count": 1,
   "id": "3bc02ab1-ae8b-4f92-bc1d-e2bf2faa75bb",
   "metadata": {},
   "outputs": [
    {
     "data": {
      "text/plain": [
       "'Answer 1: 7'"
      ]
     },
     "execution_count": 1,
     "metadata": {},
     "output_type": "execute_result"
    }
   ],
   "source": [
    "from functools import reduce\n",
    "\n",
    "input = \"mjqjpqmgbljsphdztnvjfqwrcgsmlb\"\n",
    "\n",
    "def charactersAreAllDifferent(chars):\n",
    "    sortedChars = sorted(chars)\n",
    "    consecutivePairDifferent = [sortedChars[i] != sortedChars[i+1] for i in range(len(chars) - 1)]\n",
    "    return reduce(lambda a, b: a and b, consecutivePairDifferent)\n",
    "\n",
    "def findDistinctCharacters(datastreamBuffer, markerLength):\n",
    "    processed = markerLength\n",
    "    while processed < len(datastreamBuffer) - 1 and not charactersAreAllDifferent(datastreamBuffer[processed-markerLength:processed]):\n",
    "        processed += 1\n",
    "    return processed\n",
    "\n",
    "\"Answer 1: \" + str(findDistinctCharacters(input, 4))"
   ]
  },
  {
   "cell_type": "code",
   "execution_count": 2,
   "id": "83b1fa0c-a64f-44b3-a370-49f714f86a3e",
   "metadata": {},
   "outputs": [
    {
     "data": {
      "text/plain": [
       "'Answer 2: 19'"
      ]
     },
     "execution_count": 2,
     "metadata": {},
     "output_type": "execute_result"
    }
   ],
   "source": [
    "\"Answer 2: \" + str(findDistinctCharacters(input, 14))"
   ]
  }
 ],
 "metadata": {
  "kernelspec": {
   "display_name": "Python 3 (ipykernel)",
   "language": "python",
   "name": "python3"
  },
  "language_info": {
   "codemirror_mode": {
    "name": "ipython",
    "version": 3
   },
   "file_extension": ".py",
   "mimetype": "text/x-python",
   "name": "python",
   "nbconvert_exporter": "python",
   "pygments_lexer": "ipython3",
   "version": "3.10.4"
  }
 },
 "nbformat": 4,
 "nbformat_minor": 5
}
