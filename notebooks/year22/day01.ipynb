{
 "cells": [
  {
   "cell_type": "code",
   "execution_count": 1,
   "id": "3bc02ab1-ae8b-4f92-bc1d-e2bf2faa75bb",
   "metadata": {},
   "outputs": [
    {
     "data": {
      "text/plain": [
       "'Answer 1: 24000'"
      ]
     },
     "execution_count": 1,
     "metadata": {},
     "output_type": "execute_result"
    }
   ],
   "source": [
    "input = \"\"\"1000\n",
    "2000\n",
    "3000\n",
    "\n",
    "4000\n",
    "\n",
    "5000\n",
    "6000\n",
    "\n",
    "7000\n",
    "8000\n",
    "9000\n",
    "\n",
    "10000\"\"\"\n",
    "\n",
    "calories = [[int(item) for item in elf.split(\"\\n\")] for elf in input.split(\"\\n\\n\")]\n",
    "\n",
    "totalCaloriesByElf = [sum(elf) for elf in calories]\n",
    "\n",
    "\"Answer 1: \" + str(max(totalCaloriesByElf))"
   ]
  },
  {
   "cell_type": "code",
   "execution_count": 2,
   "id": "83b1fa0c-a64f-44b3-a370-49f714f86a3e",
   "metadata": {},
   "outputs": [
    {
     "data": {
      "text/plain": [
       "'Answer 2: 45000'"
      ]
     },
     "execution_count": 2,
     "metadata": {},
     "output_type": "execute_result"
    }
   ],
   "source": [
    "sortedTotalCaloriesByElf = sorted(totalCaloriesByElf, reverse=True)\n",
    "\n",
    "\"Answer 2: \" + str(sortedTotalCaloriesByElf[0] + sortedTotalCaloriesByElf[1] + sortedTotalCaloriesByElf[2])"
   ]
  }
 ],
 "metadata": {
  "kernelspec": {
   "display_name": "Python 3 (ipykernel)",
   "language": "python",
   "name": "python3"
  },
  "language_info": {
   "codemirror_mode": {
    "name": "ipython",
    "version": 3
   },
   "file_extension": ".py",
   "mimetype": "text/x-python",
   "name": "python",
   "nbconvert_exporter": "python",
   "pygments_lexer": "ipython3",
   "version": "3.10.4"
  }
 },
 "nbformat": 4,
 "nbformat_minor": 5
}
